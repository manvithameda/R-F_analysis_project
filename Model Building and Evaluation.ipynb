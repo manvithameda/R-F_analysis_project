{
 "cells": [
  {
   "cell_type": "code",
   "execution_count": 1,
   "id": "cef4e6d2",
   "metadata": {
    "ExecuteTime": {
     "end_time": "2023-11-23T08:09:42.902786Z",
     "start_time": "2023-11-23T08:09:36.473234Z"
    }
   },
   "outputs": [],
   "source": [
    "# importing the required Libraries \n",
    "import pandas as pd, numpy as np\n",
    "import matplotlib.pyplot as plt, seaborn as sns\n",
    "\n",
    "from sklearn.feature_extraction.text import TfidfVectorizer\n",
    "from sklearn.model_selection import train_test_split\n",
    "\n",
    "from sklearn.naive_bayes import MultinomialNB\n",
    "from sklearn.linear_model import LogisticRegression, LogisticRegressionCV\n",
    "\n",
    "from sklearn.metrics import accuracy_score, classification_report, confusion_matrix, mean_squared_error\n",
    "from sklearn.model_selection import learning_curve, StratifiedKFold\n",
    "from scipy.sparse import hstack \n",
    "\n",
    "#import warnings\n",
    "from warnings import filterwarnings\n",
    "filterwarnings('ignore')"
   ]
  },
  {
   "cell_type": "code",
   "execution_count": 2,
   "id": "d6dcf695",
   "metadata": {
    "ExecuteTime": {
     "end_time": "2023-11-23T08:09:43.193311Z",
     "start_time": "2023-11-23T08:09:42.904273Z"
    }
   },
   "outputs": [
    {
     "data": {
      "text/html": [
       "<div>\n",
       "<style scoped>\n",
       "    .dataframe tbody tr th:only-of-type {\n",
       "        vertical-align: middle;\n",
       "    }\n",
       "\n",
       "    .dataframe tbody tr th {\n",
       "        vertical-align: top;\n",
       "    }\n",
       "\n",
       "    .dataframe thead th {\n",
       "        text-align: right;\n",
       "    }\n",
       "</style>\n",
       "<table border=\"1\" class=\"dataframe\">\n",
       "  <thead>\n",
       "    <tr style=\"text-align: right;\">\n",
       "      <th></th>\n",
       "      <th>combined_text</th>\n",
       "      <th>subject</th>\n",
       "      <th>label</th>\n",
       "      <th>text_length</th>\n",
       "    </tr>\n",
       "  </thead>\n",
       "  <tbody>\n",
       "    <tr>\n",
       "      <th>0</th>\n",
       "      <td>united states budget fight looms republicans f...</td>\n",
       "      <td>6</td>\n",
       "      <td>1</td>\n",
       "      <td>442</td>\n",
       "    </tr>\n",
       "    <tr>\n",
       "      <th>1</th>\n",
       "      <td>united states military accept transgender recr...</td>\n",
       "      <td>6</td>\n",
       "      <td>1</td>\n",
       "      <td>364</td>\n",
       "    </tr>\n",
       "    <tr>\n",
       "      <th>2</th>\n",
       "      <td>senior united states republican senator let mr...</td>\n",
       "      <td>6</td>\n",
       "      <td>1</td>\n",
       "      <td>249</td>\n",
       "    </tr>\n",
       "    <tr>\n",
       "      <th>3</th>\n",
       "      <td>fbi russia probe helped australian diplomat ti...</td>\n",
       "      <td>6</td>\n",
       "      <td>1</td>\n",
       "      <td>227</td>\n",
       "    </tr>\n",
       "    <tr>\n",
       "      <th>4</th>\n",
       "      <td>trump wants postal service charge amazon shipm...</td>\n",
       "      <td>6</td>\n",
       "      <td>1</td>\n",
       "      <td>486</td>\n",
       "    </tr>\n",
       "    <tr>\n",
       "      <th>...</th>\n",
       "      <td>...</td>\n",
       "      <td>...</td>\n",
       "      <td>...</td>\n",
       "      <td>...</td>\n",
       "    </tr>\n",
       "    <tr>\n",
       "      <th>44893</th>\n",
       "      <td>mc pain john mccain furious iran treated sailo...</td>\n",
       "      <td>1</td>\n",
       "      <td>0</td>\n",
       "      <td>293</td>\n",
       "    </tr>\n",
       "    <tr>\n",
       "      <th>44894</th>\n",
       "      <td>justice yahoo mail privacy class action 4 lawy...</td>\n",
       "      <td>1</td>\n",
       "      <td>0</td>\n",
       "      <td>161</td>\n",
       "    </tr>\n",
       "    <tr>\n",
       "      <th>44895</th>\n",
       "      <td>sunni stan allied safe zone plan territorial n...</td>\n",
       "      <td>1</td>\n",
       "      <td>0</td>\n",
       "      <td>2074</td>\n",
       "    </tr>\n",
       "    <tr>\n",
       "      <th>44896</th>\n",
       "      <td>blow 700 million al jazeera america finally ca...</td>\n",
       "      <td>1</td>\n",
       "      <td>0</td>\n",
       "      <td>259</td>\n",
       "    </tr>\n",
       "    <tr>\n",
       "      <th>44897</th>\n",
       "      <td>10 united states navy sailors held iranian mil...</td>\n",
       "      <td>1</td>\n",
       "      <td>0</td>\n",
       "      <td>517</td>\n",
       "    </tr>\n",
       "  </tbody>\n",
       "</table>\n",
       "<p>44685 rows × 4 columns</p>\n",
       "</div>"
      ],
      "text/plain": [
       "                                           combined_text  subject  label  \\\n",
       "0      united states budget fight looms republicans f...        6      1   \n",
       "1      united states military accept transgender recr...        6      1   \n",
       "2      senior united states republican senator let mr...        6      1   \n",
       "3      fbi russia probe helped australian diplomat ti...        6      1   \n",
       "4      trump wants postal service charge amazon shipm...        6      1   \n",
       "...                                                  ...      ...    ...   \n",
       "44893  mc pain john mccain furious iran treated sailo...        1      0   \n",
       "44894  justice yahoo mail privacy class action 4 lawy...        1      0   \n",
       "44895  sunni stan allied safe zone plan territorial n...        1      0   \n",
       "44896  blow 700 million al jazeera america finally ca...        1      0   \n",
       "44897  10 united states navy sailors held iranian mil...        1      0   \n",
       "\n",
       "       text_length  \n",
       "0              442  \n",
       "1              364  \n",
       "2              249  \n",
       "3              227  \n",
       "4              486  \n",
       "...            ...  \n",
       "44893          293  \n",
       "44894          161  \n",
       "44895         2074  \n",
       "44896          259  \n",
       "44897          517  \n",
       "\n",
       "[44685 rows x 4 columns]"
      ]
     },
     "execution_count": 2,
     "metadata": {},
     "output_type": "execute_result"
    }
   ],
   "source": [
    "# reading the cleaned data\n",
    "data = pd.read_pickle('clean_data.pkl')\n",
    "data"
   ]
  },
  {
   "cell_type": "markdown",
   "id": "ecbe1b2a",
   "metadata": {},
   "source": [
    "##### Splitting the Data"
   ]
  },
  {
   "cell_type": "code",
   "execution_count": 3,
   "id": "45eeda4b",
   "metadata": {
    "ExecuteTime": {
     "end_time": "2023-11-23T08:09:43.268209Z",
     "start_time": "2023-11-23T08:09:43.193311Z"
    }
   },
   "outputs": [],
   "source": [
    "from sklearn.model_selection import train_test_split\n",
    "\n",
    "X = data.drop('label', axis=1)\n",
    "y = data['label']\n",
    "# Split the data into training and testing sets\n",
    "X_train, X_test, y_train, y_test = train_test_split(X, y, test_size=0.2, random_state=42, stratify=y)"
   ]
  },
  {
   "cell_type": "code",
   "execution_count": 4,
   "id": "a3ba376e",
   "metadata": {
    "ExecuteTime": {
     "end_time": "2023-11-23T08:09:43.292340Z",
     "start_time": "2023-11-23T08:09:43.271448Z"
    }
   },
   "outputs": [
    {
     "name": "stdout",
     "output_type": "stream",
     "text": [
      "Class distribution in y_train:\n",
      " 0    0.5254\n",
      "1    0.4746\n",
      "Name: label, dtype: float64\n",
      "\n",
      "Class distribution in y_test:\n",
      " 0    0.525344\n",
      "1    0.474656\n",
      "Name: label, dtype: float64\n",
      "\n",
      "Shapes:\n",
      "X_train=(35748, 3), X_test=(8937, 3)\n",
      "y_train=(35748,), y_test=(8937,)\n"
     ]
    }
   ],
   "source": [
    "# to know class distribution in the training and testing sets\n",
    "print(\"Class distribution in y_train:\\n\",y_train.value_counts(normalize=True))\n",
    "print(\"\\nClass distribution in y_test:\\n\",y_test.value_counts(normalize=True))\n",
    "# to know the dimensions of train and test sets\n",
    "print(f\"\\nShapes:\\nX_train={X_train.shape}, X_test={X_test.shape}\")\n",
    "print(f\"y_train={y_train.shape}, y_test={y_test.shape}\")"
   ]
  },
  {
   "cell_type": "markdown",
   "id": "dd17b347",
   "metadata": {},
   "source": [
    "## Model Building and Evaluation"
   ]
  },
  {
   "cell_type": "markdown",
   "id": "50e32822",
   "metadata": {},
   "source": [
    "    We are considering unigrams, bigrams, and also trigrams for our model.\n",
    "    Including them allows the model to capture both individual words and relationships between the words."
   ]
  },
  {
   "cell_type": "markdown",
   "id": "9973a3b6",
   "metadata": {},
   "source": [
    "    We defined functions to build and evaluate the model which can be implemented for different classifiers."
   ]
  },
  {
   "cell_type": "code",
   "execution_count": 5,
   "id": "4dafdd9f",
   "metadata": {
    "ExecuteTime": {
     "end_time": "2023-11-23T08:09:43.318871Z",
     "start_time": "2023-11-23T08:09:43.292340Z"
    }
   },
   "outputs": [],
   "source": [
    "# Function to get the models of different classifiers\n",
    "def build_model(X_train, X_test, y_train, y_test, classifier, alpha=None, penalty=None, \n",
    "                ngram_ranges=None, max_features=None):\n",
    "    vectorizers = []; X_test_vectorized_list = []\n",
    "    for ngram_range, max_feature in zip(ngram_ranges, max_features):\n",
    "        vectorizer = TfidfVectorizer(ngram_range=ngram_range, max_features=max_feature)\n",
    "        X_train_vectorized = vectorizer.fit_transform(X_train['combined_text'])\n",
    "        vectorizers.append(vectorizer)\n",
    "        X_test_vectorized_list.append(vectorizer.transform(X_test['combined_text']))\n",
    "    # Combine the vectorized data\n",
    "    X_train_vectorized = hstack([vectorizer.transform(X_train['combined_text']) for vectorizer in vectorizers])\n",
    "    X_test_vectorized = hstack(X_test_vectorized_list)\n",
    "    \n",
    "    # Train the model based on the specified classifier\n",
    "    if classifier == MultinomialNB:\n",
    "        # Laplace smoothing (alpha parameter)\n",
    "        model = classifier(alpha=alpha)\n",
    "    elif classifier == LogisticRegression:\n",
    "        # Logistic Regression with L1 or L2 regularization\n",
    "        model = classifier(penalty=penalty, solver='saga', max_iter=1000, random_state=42)\n",
    "    elif classifier == LogisticRegressionCV:\n",
    "        # Logistic Regression with cross-validated hyperparameter search\n",
    "        model = classifier(Cs=[0.001, 0.01, 0.1, 1, 10], penalty=penalty, solver='saga', max_iter=1000, cv=5)\n",
    "    else:\n",
    "        model = classifier()\n",
    "\n",
    "    model.fit(X_train_vectorized, y_train)\n",
    "    return model, vectorizers, X_test_vectorized, X_train_vectorized"
   ]
  },
  {
   "cell_type": "code",
   "execution_count": 6,
   "id": "ea4d3d36",
   "metadata": {
    "ExecuteTime": {
     "end_time": "2023-11-23T08:09:43.334994Z",
     "start_time": "2023-11-23T08:09:43.321480Z"
    }
   },
   "outputs": [],
   "source": [
    "# Function to evaluate the models\n",
    "def evaluate_model(model, X_train_vectorized, X_test_vectorized, y_train, y_test):\n",
    "    # Predictions on training set\n",
    "    y_train_pred = model.predict(X_train_vectorized)\n",
    "    train_acc = accuracy_score(y_train, y_train_pred)\n",
    "    train_matrix = confusion_matrix(y_train, y_train_pred)\n",
    "    train_report = classification_report(y_train, y_train_pred)\n",
    "    train_mse = mean_squared_error(y_train, y_train_pred)\n",
    "    \n",
    "    # Predictions on testing set\n",
    "    y_test_pred = model.predict(X_test_vectorized)\n",
    "    test_acc = accuracy_score(y_test, y_test_pred)\n",
    "    test_matrix = confusion_matrix(y_test, y_test_pred)\n",
    "    test_report = classification_report(y_test, y_test_pred)\n",
    "    test_mse = mean_squared_error(y_test, y_test_pred)\n",
    "\n",
    "    return train_acc, train_matrix, train_report, train_mse, test_acc, test_matrix, test_report, test_mse"
   ]
  },
  {
   "cell_type": "raw",
   "id": "727d0b7a",
   "metadata": {},
   "source": []
  },
  {
   "cell_type": "markdown",
   "id": "5a5f50f4",
   "metadata": {},
   "source": [
    "## Naïve Bayes - Multinomial\n",
    "    MultinomialNB is widely used for text classification tasks, and it works well with the term frequency features typically used in natural language processing."
   ]
  },
  {
   "cell_type": "markdown",
   "id": "84394e4e",
   "metadata": {},
   "source": [
    "    To get the best max_features for unigrams, bigrams and trigrams."
   ]
  },
  {
   "cell_type": "code",
   "execution_count": 7,
   "id": "125d1108",
   "metadata": {
    "ExecuteTime": {
     "end_time": "2023-11-23T08:16:44.175751Z",
     "start_time": "2023-11-23T08:09:43.337278Z"
    },
    "scrolled": true
   },
   "outputs": [
    {
     "name": "stdout",
     "output_type": "stream",
     "text": [
      "Accuracy for ngram_range=(1, 1), max_features=300: 0.9272686583864832\n",
      "Accuracy for ngram_range=(1, 1), max_features=500: 0.9289470739621797\n",
      "Accuracy for ngram_range=(1, 1), max_features=800: 0.9274924471299094\n",
      "\n",
      "Best max_features for ngram_range=(1, 1): 500\n",
      "\n",
      "Accuracy for ngram_range=(2, 2), max_features=800: 0.9468501734362762\n",
      "Accuracy for ngram_range=(2, 2), max_features=500: 0.9399127223900637\n",
      "Accuracy for ngram_range=(2, 2), max_features=300: 0.9309611726530156\n",
      "\n",
      "Best max_features for ngram_range=(2, 2): 800\n",
      "\n",
      "Accuracy for ngram_range=(3, 3), max_features=1500: 0.8968333892805191\n",
      "Accuracy for ngram_range=(3, 3), max_features=500: 0.8440192458319347\n",
      "Accuracy for ngram_range=(3, 3), max_features=800: 0.8725523106187759\n",
      "\n",
      "Best max_features for ngram_range=(3, 3): 1500\n",
      "\n"
     ]
    }
   ],
   "source": [
    "def best_max_features(X_train, X_test, y_train, y_test, ngram_ranges, max_features_list):\n",
    "    best_max_features = {}\n",
    "    for ngram_range, max_features_values in zip(ngram_ranges, max_features_list):\n",
    "        best_accuracy = 0; best_max_feature = None\n",
    "        for max_feature in max_features_values:   # using the build_model function with MultinomialNB()\n",
    "            model, _, X_test_vectorized, X_train_vectorized = build_model(\n",
    "                X_train, X_test, y_train, y_test, MultinomialNB, alpha=2.0,\n",
    "                ngram_ranges=[ngram_range], max_features=[max_feature])\n",
    "            y_pred = model.predict(X_test_vectorized)\n",
    "            accuracy = accuracy_score(y_test, y_pred)\n",
    "            print(f'Accuracy for ngram_range={ngram_range}, max_features={max_feature}: {accuracy}')\n",
    "            if accuracy > best_accuracy:\n",
    "                best_accuracy = accuracy\n",
    "                best_max_feature = max_feature\n",
    "        print(f\"\\nBest max_features for ngram_range={ngram_range}: {best_max_feature}\\n\")\n",
    "        best_max_features[ngram_range] = best_max_feature\n",
    "    return best_max_features\n",
    "\n",
    "# Calling the function\n",
    "ngram_ranges = [(1, 1), (2, 2), (3, 3)]\n",
    "max_features_list = [[300, 500, 800], [800, 500, 300], [1500, 500, 800]]\n",
    "best_max_features = best_max_features(X_train, X_test, y_train, y_test, ngram_ranges, max_features_list)"
   ]
  },
  {
   "cell_type": "code",
   "execution_count": 8,
   "id": "34d2122f",
   "metadata": {
    "ExecuteTime": {
     "end_time": "2023-11-23T08:18:15.442869Z",
     "start_time": "2023-11-23T08:16:44.179351Z"
    }
   },
   "outputs": [],
   "source": [
    "# Fitting the MultinomialNB classifier\n",
    "\n",
    "nb_model, nb_vectorizers, X_test_vectorized, X_train_vectorized = build_model(\n",
    "    X_train, X_test, y_train, y_test, MultinomialNB,\n",
    "    alpha=2.0, ngram_ranges=((1, 1), (2, 2), (3, 3)), max_features=(500, 800, 1500))"
   ]
  },
  {
   "cell_type": "code",
   "execution_count": 9,
   "id": "e6c211af",
   "metadata": {
    "ExecuteTime": {
     "end_time": "2023-11-23T08:18:15.821838Z",
     "start_time": "2023-11-23T08:18:15.442869Z"
    },
    "scrolled": true
   },
   "outputs": [
    {
     "name": "stdout",
     "output_type": "stream",
     "text": [
      "Training Accuracy: 0.9629070157771064\n",
      "\n",
      "Training MSE: 0.03709298422289359\n",
      "\n",
      "Training Classification Report:\n",
      "              precision    recall  f1-score   support\n",
      "\n",
      "           0       0.98      0.95      0.96     18782\n",
      "           1       0.95      0.98      0.96     16966\n",
      "\n",
      "    accuracy                           0.96     35748\n",
      "   macro avg       0.96      0.96      0.96     35748\n",
      "weighted avg       0.96      0.96      0.96     35748\n",
      "\n",
      "\n",
      "\n",
      "Testing Accuracy: 0.9634105404498153\n",
      "\n",
      "Testing MSE: 0.036589459550184625\n",
      "\n",
      "Testing Classification Report:\n",
      "              precision    recall  f1-score   support\n",
      "\n",
      "           0       0.98      0.95      0.96      4695\n",
      "           1       0.95      0.98      0.96      4242\n",
      "\n",
      "    accuracy                           0.96      8937\n",
      "   macro avg       0.96      0.96      0.96      8937\n",
      "weighted avg       0.96      0.96      0.96      8937\n",
      "\n"
     ]
    },
    {
     "data": {
      "image/png": "[encoded data removed]",
      "text/plain": [
       "<Figure size 600x200 with 4 Axes>"
      ]
     },
     "metadata": {},
     "output_type": "display_data"
    }
   ],
   "source": [
    "# Evaluating the Naive Bayes model\n",
    "train_acc,train_matrix,train_report,train_mse, test_acc,test_matrix,test_report,test_mse = evaluate_model(\n",
    "    nb_model, X_train_vectorized, X_test_vectorized, y_train, y_test)\n",
    "\n",
    "# Print the results\n",
    "print(\"Training Accuracy:\", train_acc)\n",
    "print(\"\\nTraining MSE:\", train_mse)\n",
    "print(\"\\nTraining Classification Report:\")\n",
    "print(train_report)\n",
    "print(\"\\n\\nTesting Accuracy:\", test_acc)\n",
    "print(\"\\nTesting MSE:\", test_mse)\n",
    "print(\"\\nTesting Classification Report:\")\n",
    "print(test_report)\n",
    "\n",
    "# Plotting the Confusion Matrix\n",
    "plt.figure(figsize=(6, 2))\n",
    "plt.subplot(1, 2, 1)\n",
    "sns.heatmap(train_matrix, annot=True, fmt=\"d\",xticklabels=nb_model.classes_,yticklabels=nb_model.classes_)\n",
    "plt.title(\"Training Confusion Matrix\")\n",
    "plt.subplot(1, 2, 2)\n",
    "sns.heatmap(test_matrix, annot=True, fmt=\"d\",xticklabels=nb_model.classes_, yticklabels=nb_model.classes_)\n",
    "plt.title(\"Testing Confusion Matrix\")\n",
    "plt.show()"
   ]
  },
  {
   "cell_type": "code",
   "execution_count": 10,
   "id": "72fc0057",
   "metadata": {
    "ExecuteTime": {
     "end_time": "2023-11-23T08:18:17.196079Z",
     "start_time": "2023-11-23T08:18:15.822602Z"
    }
   },
   "outputs": [
    {
     "data": {
      "image/png": "[encoded data removed]",
      "text/plain": [
       "<Figure size 600x300 with 1 Axes>"
      ]
     },
     "metadata": {},
     "output_type": "display_data"
    }
   ],
   "source": [
    "# Learning curve to know about the performance of the model\n",
    "def plot_learning_curve(estimator,X, y,cv=None,train_sizes=np.linspace(0.1, 1.0, 10), scoring='accuracy'):\n",
    "    train_sizes, train_scores, test_scores = learning_curve(\n",
    "        estimator, X, y, cv=cv, train_sizes=train_sizes, scoring=scoring)\n",
    "    train_scores_mean = np.mean(train_scores, axis=1)\n",
    "    train_scores_std = np.std(train_scores, axis=1)\n",
    "    test_scores_mean = np.mean(test_scores, axis=1)\n",
    "    test_scores_std = np.std(test_scores, axis=1)\n",
    "    plt.figure(figsize=(6, 3))\n",
    "    plt.title(\"Learning Curve\")\n",
    "    plt.xlabel(\"Training Examples\")\n",
    "    plt.ylabel(\"Score\")\n",
    "    plt.grid()\n",
    "    plt.fill_between(train_sizes, train_scores_mean - train_scores_std,\n",
    "                     train_scores_mean + train_scores_std, alpha=0.1, color=\"r\")\n",
    "    plt.fill_between(train_sizes, test_scores_mean - test_scores_std,\n",
    "                     test_scores_mean + test_scores_std, alpha=0.1, color=\"g\")\n",
    "    plt.plot(train_sizes, train_scores_mean, 'o-', color=\"r\", label=\"Training Score\")\n",
    "    plt.plot(train_sizes, test_scores_mean, 'o-', color=\"g\", label=\"Cross-validation Score\")\n",
    "    plt.legend(loc=\"best\")\n",
    "    plt.show()\n",
    "    \n",
    "plot_learning_curve(nb_model, X_train_vectorized, y_train, cv=5)"
   ]
  },
  {
   "cell_type": "markdown",
   "id": "2f284894",
   "metadata": {},
   "source": [
    "##### K - Fold Cross Validation"
   ]
  },
  {
   "cell_type": "code",
   "execution_count": 11,
   "id": "db90b49e",
   "metadata": {
    "ExecuteTime": {
     "end_time": "2023-11-23T08:25:06.572880Z",
     "start_time": "2023-11-23T08:18:17.197095Z"
    }
   },
   "outputs": [
    {
     "name": "stdout",
     "output_type": "stream",
     "text": [
      "Average Training Accuracy: 0.9632650777665883\n",
      "Average Testing Accuracy: 0.9618216403714893\n"
     ]
    }
   ],
   "source": [
    "# Combine the train and test data\n",
    "X_combined = pd.concat([X_train, X_test], ignore_index=True)\n",
    "y_combined = pd.concat([y_train, y_test], ignore_index=True)\n",
    "# Function for K-Fold Cross Validation\n",
    "def kfold_cross_validation(model, X, y, ngram_ranges, max_features, num_folds=5, random_state=42):\n",
    "    kf = StratifiedKFold(n_splits=num_folds, shuffle=True, random_state=random_state)\n",
    "    train_accuracies = []; test_accuracies = []\n",
    "    for train_index, test_index in kf.split(X, y):\n",
    "        X_train_fold, X_test_fold = X.iloc[train_index], X.iloc[test_index]\n",
    "        y_train_fold, y_test_fold = y.iloc[train_index], y.iloc[test_index]\n",
    "        # Build the model with the current fold data\n",
    "        nb_model, _, X_test_vectorized, X_train_vectorized = build_model(\n",
    "            X_train_fold, X_test_fold, y_train_fold, y_test_fold,\n",
    "            MultinomialNB, alpha=2.0, ngram_ranges=ngram_ranges, max_features=max_features)\n",
    "        # Evaluate the model\n",
    "        train_acc, _, _, _, test_acc, _, _, _ = evaluate_model(\n",
    "            nb_model, X_train_vectorized, X_test_vectorized, y_train_fold, y_test_fold)\n",
    "        train_accuracies.append(train_acc)\n",
    "        test_accuracies.append(test_acc)\n",
    "    return train_accuracies, test_accuracies\n",
    "\n",
    "train_accuracies, test_accuracies = kfold_cross_validation(\n",
    "    nb_model, X_combined, y_combined, ((1, 1), (2, 2), (3, 3)), (500, 800, 1500))\n",
    "average_train_accuracy = np.mean(train_accuracies)\n",
    "average_test_accuracy = np.mean(test_accuracies)\n",
    "print(f'Average Training Accuracy: {average_train_accuracy}')\n",
    "print(f'Average Testing Accuracy: {average_test_accuracy}')"
   ]
  },
  {
   "cell_type": "markdown",
   "id": "1a5ca5f0",
   "metadata": {},
   "source": [
    "So, we can conclude that the MultinomialNB classifier model performs well on both the train and test data. It is neither overfitting nor underfitting."
   ]
  },
  {
   "cell_type": "raw",
   "id": "aba70696",
   "metadata": {
    "ExecuteTime": {
     "end_time": "2023-11-16T19:37:34.284688Z",
     "start_time": "2023-11-16T19:28:04.576991Z"
    }
   },
   "source": []
  },
  {
   "cell_type": "markdown",
   "id": "8fed359d",
   "metadata": {},
   "source": [
    "## Logistic Regression\n",
    "    As it is commonly used algorithm for binary classification tasks, and it can be a good choice for text classification problems like distinguishing between real and fake news."
   ]
  },
  {
   "cell_type": "code",
   "execution_count": 12,
   "id": "23518481",
   "metadata": {
    "ExecuteTime": {
     "end_time": "2023-11-23T08:29:14.214483Z",
     "start_time": "2023-11-23T08:25:06.572880Z"
    }
   },
   "outputs": [
    {
     "name": "stdout",
     "output_type": "stream",
     "text": [
      "Accuracy for ngram_range=(1, 1), max_features=600: 0.9841109992167394\n",
      "Accuracy for ngram_range=(1, 1), max_features=300: 0.9815374286673381\n",
      "Accuracy for ngram_range=(1, 1), max_features=50: 0.981425534295625\n",
      "\n",
      "Best max_features for ngram_range=(1, 1): 600\n",
      "\n",
      "Accuracy for ngram_range=(2, 2), max_features=200: 0.9376748349558017\n",
      "Accuracy for ngram_range=(2, 2), max_features=500: 0.9632986460781022\n",
      "Accuracy for ngram_range=(2, 2), max_features=300: 0.9497594271008168\n",
      "\n",
      "Best max_features for ngram_range=(2, 2): 500\n",
      "\n",
      "Accuracy for ngram_range=(3, 3), max_features=200: 0.8205214277721831\n",
      "Accuracy for ngram_range=(3, 3), max_features=500: 0.8613628734474655\n",
      "Accuracy for ngram_range=(3, 3), max_features=800: 0.8914624594382903\n",
      "\n",
      "Best max_features for ngram_range=(3, 3): 800\n",
      "\n"
     ]
    }
   ],
   "source": [
    "# to get the best max_features for the unigrams, bigrams and trigrams\n",
    "def best_max_features(X_train, X_test, y_train, y_test, ngram_ranges, max_features_list):\n",
    "    best_max_features = {}\n",
    "    for ngram_range, max_features_values in zip(ngram_ranges, max_features_list):\n",
    "        best_accuracy = 0; best_max_feature = None\n",
    "        for max_feature in max_features_values:  # using build_model function - LogisticRegression\n",
    "            model, _, X_test_vectorized, X_train_vectorized = build_model(\n",
    "                X_train, X_test, y_train, y_test, LogisticRegression, penalty='l2',\n",
    "                ngram_ranges=[ngram_range], max_features=[max_feature])\n",
    "            y_pred = model.predict(X_test_vectorized)\n",
    "            accuracy = accuracy_score(y_test, y_pred)\n",
    "            print(f'Accuracy for ngram_range={ngram_range}, max_features={max_feature}: {accuracy}')\n",
    "            if accuracy > best_accuracy:\n",
    "                best_accuracy = accuracy\n",
    "                best_max_feature = max_feature\n",
    "        print(f\"\\nBest max_features for ngram_range={ngram_range}: {best_max_feature}\\n\")\n",
    "        best_max_features[ngram_range] = best_max_feature\n",
    "    return best_max_features\n",
    "\n",
    "# Calling the function\n",
    "ngram_ranges = [(1, 1), (2, 2), (3, 3)]\n",
    "max_features_list = [[600, 300, 50], [200, 500, 300], [200, 500, 800]]\n",
    "best_max_features = best_max_features(X_train, X_test, y_train, y_test, ngram_ranges, max_features_list)"
   ]
  },
  {
   "cell_type": "code",
   "execution_count": 13,
   "id": "7bbfa19d",
   "metadata": {
    "ExecuteTime": {
     "end_time": "2023-11-23T08:30:35.740112Z",
     "start_time": "2023-11-23T08:29:14.217302Z"
    }
   },
   "outputs": [],
   "source": [
    "# Fitting the Logistic Regression with 'L2' regularization \n",
    "lr_model, lr_vectorizers, X_test_vectorized, X_train_vectorized = build_model(\n",
    "    X_train, X_test, y_train, y_test, LogisticRegression,\n",
    "    penalty='l2', ngram_ranges=((1, 1), (2, 2), (3, 3)), max_features=(300, 500, 800))"
   ]
  },
  {
   "cell_type": "code",
   "execution_count": 14,
   "id": "9c87b9a8",
   "metadata": {
    "ExecuteTime": {
     "end_time": "2023-11-23T08:30:36.038453Z",
     "start_time": "2023-11-23T08:30:35.740112Z"
    },
    "scrolled": true
   },
   "outputs": [
    {
     "name": "stdout",
     "output_type": "stream",
     "text": [
      "Training Accuracy: 0.9942374398567752\n",
      "\n",
      "Training MSE: 0.005762560143224796\n",
      "\n",
      "Training Classification Report:\n",
      "              precision    recall  f1-score   support\n",
      "\n",
      "           0       1.00      0.99      0.99     18782\n",
      "           1       0.99      1.00      0.99     16966\n",
      "\n",
      "    accuracy                           0.99     35748\n",
      "   macro avg       0.99      0.99      0.99     35748\n",
      "weighted avg       0.99      0.99      0.99     35748\n",
      "\n",
      "\n",
      "\n",
      "Testing Accuracy: 0.9909365558912386\n",
      "\n",
      "Testing MSE: 0.00906344410876133\n",
      "\n",
      "Testing Classification Report:\n",
      "              precision    recall  f1-score   support\n",
      "\n",
      "           0       0.99      0.99      0.99      4695\n",
      "           1       0.99      0.99      0.99      4242\n",
      "\n",
      "    accuracy                           0.99      8937\n",
      "   macro avg       0.99      0.99      0.99      8937\n",
      "weighted avg       0.99      0.99      0.99      8937\n",
      "\n"
     ]
    },
    {
     "data": {
      "image/png": "[encoded data removed]",
      "text/plain": [
       "<Figure size 600x200 with 4 Axes>"
      ]
     },
     "metadata": {},
     "output_type": "display_data"
    }
   ],
   "source": [
    "# Evaluating the Logistic Regression model\n",
    "train_acc,train_matrix,train_report,train_mse, test_acc,test_matrix,test_report,test_mse = evaluate_model(\n",
    "    lr_model, X_train_vectorized, X_test_vectorized, y_train, y_test)\n",
    "\n",
    "# Print the results\n",
    "print(\"Training Accuracy:\", train_acc)\n",
    "print(\"\\nTraining MSE:\", train_mse)\n",
    "print(\"\\nTraining Classification Report:\")\n",
    "print(train_report)\n",
    "print(\"\\n\\nTesting Accuracy:\", test_acc)\n",
    "print(\"\\nTesting MSE:\", test_mse)\n",
    "print(\"\\nTesting Classification Report:\")\n",
    "print(test_report)\n",
    "\n",
    "# Plotting the Confusion Matrix\n",
    "plt.figure(figsize=(6, 2))\n",
    "plt.subplot(1, 2, 1)\n",
    "sns.heatmap(train_matrix, annot=True, fmt=\"d\",xticklabels=lr_model.classes_,yticklabels=lr_model.classes_)\n",
    "plt.title(\"Training Confusion Matrix\")\n",
    "plt.subplot(1, 2, 2)\n",
    "sns.heatmap(test_matrix, annot=True, fmt=\"d\",xticklabels=lr_model.classes_,yticklabels=lr_model.classes_)\n",
    "plt.title(\"Testing Confusion Matrix\")\n",
    "plt.show()"
   ]
  },
  {
   "cell_type": "code",
   "execution_count": 15,
   "id": "aa701d84",
   "metadata": {
    "ExecuteTime": {
     "end_time": "2023-11-23T08:30:48.016809Z",
     "start_time": "2023-11-23T08:30:36.042417Z"
    }
   },
   "outputs": [
    {
     "data": {
      "image/png": "[encoded data removed]",
      "text/plain": [
       "<Figure size 600x300 with 1 Axes>"
      ]
     },
     "metadata": {},
     "output_type": "display_data"
    }
   ],
   "source": [
    "# plotting the learning curve Logistic Regression model\n",
    "plot_learning_curve(lr_model, X_train_vectorized, y_train, cv=5)"
   ]
  },
  {
   "cell_type": "markdown",
   "id": "74d394f2",
   "metadata": {},
   "source": [
    "##### K - Fold Cross Validation"
   ]
  },
  {
   "cell_type": "code",
   "execution_count": 16,
   "id": "722c7da2",
   "metadata": {
    "ExecuteTime": {
     "end_time": "2023-11-23T08:37:34.845883Z",
     "start_time": "2023-11-23T08:30:48.018933Z"
    }
   },
   "outputs": [
    {
     "name": "stdout",
     "output_type": "stream",
     "text": [
      "Average Training Accuracy: 0.9941087613293051\n",
      "Average Testing Accuracy: 0.9910260713886092\n"
     ]
    }
   ],
   "source": [
    "# Combine the train and test data\n",
    "X_combined = pd.concat([X_train, X_test], ignore_index=True)\n",
    "y_combined = pd.concat([y_train, y_test], ignore_index=True)\n",
    "# Function for K-Fold Cross Validation\n",
    "def kfold_cross_validation(classifier, X, y, ngram_ranges, max_features, num_folds=5, random_state=42):\n",
    "    kf = StratifiedKFold(n_splits=num_folds, shuffle=True, random_state=random_state)\n",
    "    train_accuracies = []; test_accuracies = []\n",
    "    for train_index, test_index in kf.split(X, y):\n",
    "        X_train_fold, X_test_fold = X.iloc[train_index], X.iloc[test_index]\n",
    "        y_train_fold, y_test_fold = y.iloc[train_index], y.iloc[test_index]\n",
    "        # Build and train a new model with the current fold data\n",
    "        lr_model, _, X_test_vectorized, X_train_vectorized = build_model(\n",
    "            X_train_fold, X_test_fold, y_train_fold, y_test_fold,\n",
    "            classifier, penalty='l2', ngram_ranges=ngram_ranges, max_features=max_features)\n",
    "        # Evaluate the model\n",
    "        train_acc, _, _, _, test_acc, _, _, _ = evaluate_model(\n",
    "            lr_model, X_train_vectorized, X_test_vectorized, y_train_fold, y_test_fold)\n",
    "        # Store the results for this fold\n",
    "        train_accuracies.append(train_acc)\n",
    "        test_accuracies.append(test_acc)\n",
    "    return train_accuracies, test_accuracies\n",
    "\n",
    "train_accuracies, test_accuracies = kfold_cross_validation(\n",
    "    LogisticRegression, X_combined, y_combined, [(1, 1), (2, 2), (3, 3)], \n",
    "    (300, 500, 800), num_folds=5, random_state=42)\n",
    "average_train_accuracy = np.mean(train_accuracies)\n",
    "average_test_accuracy = np.mean(test_accuracies)\n",
    "print(f'Average Training Accuracy: {average_train_accuracy}')\n",
    "print(f'Average Testing Accuracy: {average_test_accuracy}')"
   ]
  },
  {
   "cell_type": "markdown",
   "id": "c57af281",
   "metadata": {},
   "source": [
    "We can conclude that the Logistic Regression model also performs well on both the train and test sets."
   ]
  },
  {
   "cell_type": "code",
   "execution_count": 18,
   "id": "012060c3",
   "metadata": {
    "ExecuteTime": {
     "end_time": "2023-11-23T08:37:38.472508Z",
     "start_time": "2023-11-23T08:37:38.429285Z"
    }
   },
   "outputs": [
    {
     "data": {
      "text/html": [
       "<div>\n",
       "<style scoped>\n",
       "    .dataframe tbody tr th:only-of-type {\n",
       "        vertical-align: middle;\n",
       "    }\n",
       "\n",
       "    .dataframe tbody tr th {\n",
       "        vertical-align: top;\n",
       "    }\n",
       "\n",
       "    .dataframe thead th {\n",
       "        text-align: right;\n",
       "    }\n",
       "</style>\n",
       "<table border=\"1\" class=\"dataframe\">\n",
       "  <thead>\n",
       "    <tr style=\"text-align: right;\">\n",
       "      <th></th>\n",
       "      <th>Article</th>\n",
       "      <th>Actual</th>\n",
       "      <th>Predicted</th>\n",
       "    </tr>\n",
       "  </thead>\n",
       "  <tbody>\n",
       "    <tr>\n",
       "      <th>27721</th>\n",
       "      <td>marco rubio slams gop obstructing obama surpri...</td>\n",
       "      <td>Fake</td>\n",
       "      <td>Fake</td>\n",
       "    </tr>\n",
       "    <tr>\n",
       "      <th>22898</th>\n",
       "      <td>warren trump brutal commencement speech beauti...</td>\n",
       "      <td>Fake</td>\n",
       "      <td>Fake</td>\n",
       "    </tr>\n",
       "    <tr>\n",
       "      <th>37583</th>\n",
       "      <td>rob schneider nails russia conspiracy theorist...</td>\n",
       "      <td>Fake</td>\n",
       "      <td>Real</td>\n",
       "    </tr>\n",
       "    <tr>\n",
       "      <th>11110</th>\n",
       "      <td>pentagon chief preview fiscal 2017 budget feb ...</td>\n",
       "      <td>Real</td>\n",
       "      <td>Real</td>\n",
       "    </tr>\n",
       "    <tr>\n",
       "      <th>4308</th>\n",
       "      <td>tillers faces tough talks moscow amid increase...</td>\n",
       "      <td>Real</td>\n",
       "      <td>Real</td>\n",
       "    </tr>\n",
       "    <tr>\n",
       "      <th>15482</th>\n",
       "      <td>indonesian court recognizes native religions l...</td>\n",
       "      <td>Real</td>\n",
       "      <td>Real</td>\n",
       "    </tr>\n",
       "    <tr>\n",
       "      <th>791</th>\n",
       "      <td>open sesame lobbyists cheer warmer welcome tru...</td>\n",
       "      <td>Real</td>\n",
       "      <td>Real</td>\n",
       "    </tr>\n",
       "    <tr>\n",
       "      <th>29283</th>\n",
       "      <td>republicans twitter hilarious gop movies hash ...</td>\n",
       "      <td>Fake</td>\n",
       "      <td>Fake</td>\n",
       "    </tr>\n",
       "    <tr>\n",
       "      <th>25559</th>\n",
       "      <td>watch president obama tells whiny trump shut c...</td>\n",
       "      <td>Fake</td>\n",
       "      <td>Fake</td>\n",
       "    </tr>\n",
       "    <tr>\n",
       "      <th>21190</th>\n",
       "      <td>4 suspends staff uk migrant center says invest...</td>\n",
       "      <td>Real</td>\n",
       "      <td>Real</td>\n",
       "    </tr>\n",
       "  </tbody>\n",
       "</table>\n",
       "</div>"
      ],
      "text/plain": [
       "                                                 Article Actual Predicted\n",
       "27721  marco rubio slams gop obstructing obama surpri...   Fake      Fake\n",
       "22898  warren trump brutal commencement speech beauti...   Fake      Fake\n",
       "37583  rob schneider nails russia conspiracy theorist...   Fake      Real\n",
       "11110  pentagon chief preview fiscal 2017 budget feb ...   Real      Real\n",
       "4308   tillers faces tough talks moscow amid increase...   Real      Real\n",
       "15482  indonesian court recognizes native religions l...   Real      Real\n",
       "791    open sesame lobbyists cheer warmer welcome tru...   Real      Real\n",
       "29283  republicans twitter hilarious gop movies hash ...   Fake      Fake\n",
       "25559  watch president obama tells whiny trump shut c...   Fake      Fake\n",
       "21190  4 suspends staff uk migrant center says invest...   Real      Real"
      ]
     },
     "execution_count": 18,
     "metadata": {},
     "output_type": "execute_result"
    }
   ],
   "source": [
    "from scipy.sparse import hstack\n",
    "import pandas as pd  # Assuming 'pd' is imported for DataFrame operations\n",
    "\n",
    "# Function to predict the class (real or fake) for new data\n",
    "def predict_article_class(model, vectorizers, new_data):\n",
    "    # Vectorize the new data using the same vectorizers\n",
    "    vectorized_list = [vectorizer.transform(new_data['combined_text']) for vectorizer in vectorizers]\n",
    "    new_data_vectorized = hstack(vectorized_list)\n",
    "    # Predict the class\n",
    "    predictions = model.predict(new_data_vectorized)\n",
    "    return predictions\n",
    "\n",
    "# Taking a sample of 10 articles from the test data\n",
    "new_data_sample = X_test.sample(10)  # Assuming 'X_test' contains the new data\n",
    "predictions = predict_article_class(nb_model, nb_vectorizers, new_data_sample)\n",
    "# Combine the actual labels with the predicted labels\n",
    "results = pd.DataFrame({\n",
    "    'Article': new_data_sample['combined_text'],\n",
    "    'Actual': y_test.loc[new_data_sample.index],  # Assuming 'y_test' is the actual labels\n",
    "    'Predicted': predictions})\n",
    "# Map 0 to 'fake' and 1 to 'real'\n",
    "results['Actual'] = results['Actual'].map({0: 'Fake', 1: 'Real'})\n",
    "results['Predicted'] = results['Predicted'].map({0: 'Fake', 1: 'Real'})\n",
    "# Display the results in a table\n",
    "results\n"
   ]
  },
  {
   "cell_type": "markdown",
   "id": "f856c6ec",
   "metadata": {},
   "source": [
    "### Conclusion\n",
    "    We decided to finalize the MultinomialNB classifier model for the classification of real and fake news analysis."
   ]
  },
  {
   "cell_type": "code",
   "execution_count": 17,
   "id": "a5cf00c4",
   "metadata": {
    "ExecuteTime": {
     "end_time": "2023-11-23T08:37:38.418410Z",
     "start_time": "2023-11-23T08:37:34.845883Z"
    }
   },
   "outputs": [],
   "source": [
    "import pickle\n",
    "   \n",
    "with open('model.pkl', 'wb') as file:\n",
    "    pickle.dump(nb_model, file)\n",
    "    \n",
    "with open('tfidf_vectorizer.pkl', 'wb') as file:\n",
    "    pickle.dump(nb_vectorizers, file)    "
   ]
  }
 ],
 "metadata": {
  "kernelspec": {
   "display_name": "Python 3 (ipykernel)",
   "language": "python",
   "name": "python3"
  },
  "language_info": {
   "codemirror_mode": {
    "name": "ipython",
    "version": 3
   },
   "file_extension": ".py",
   "mimetype": "text/x-python",
   "name": "python",
   "nbconvert_exporter": "python",
   "pygments_lexer": "ipython3",
   "version": "3.9.13"
  }
 },
 "nbformat": 4,
 "nbformat_minor": 5
}
